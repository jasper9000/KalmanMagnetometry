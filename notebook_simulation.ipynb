{
 "cells": [
  {
   "cell_type": "code",
   "execution_count": 1,
   "metadata": {},
   "outputs": [],
   "source": [
    "import os, copy\n",
    "import numpy as np\n",
    "import matplotlib.pyplot as plt\n",
    "os.environ[\"JAX_PLATFORMS\"] = \"cpu\"\n",
    "import jax\n",
    "jax.config.update(\"jax_platform_name\", \"cpu\")\n",
    "jax.config.update(\"jax_enable_x64\", True) \n",
    "import jax.numpy as jnp\n",
    "\n",
    "from KalmanMagnetometry import *"
   ]
  },
  {
   "cell_type": "code",
   "execution_count": 2,
   "metadata": {},
   "outputs": [],
   "source": [
    "%load_ext autoreload\n",
    "%autoreload 2"
   ]
  },
  {
   "cell_type": "code",
   "execution_count": 3,
   "metadata": {},
   "outputs": [],
   "source": [
    "np.random.seed(123)"
   ]
  },
  {
   "cell_type": "markdown",
   "metadata": {},
   "source": [
    "# simulate signal"
   ]
  },
  {
   "cell_type": "code",
   "execution_count": 4,
   "metadata": {},
   "outputs": [],
   "source": [
    "### SIMULATION PARAMETERS\n",
    "f_sampling = 500\n",
    "t2 = 3142.64 # s, fitted from experimental data\n",
    "\n",
    "snr_dB = 10.0\n",
    "var_mn = 1e2\n",
    "\n",
    "f_0 = 84.61544342\n",
    "D = 1e-10\n",
    "L_signal = 5_400_000 # 3 h"
   ]
  },
  {
   "cell_type": "code",
   "execution_count": 5,
   "metadata": {},
   "outputs": [],
   "source": [
    "t = np.arange(L_signal) / f_sampling\n",
    "mn = np.sqrt(var_mn) * np.random.randn(L_signal)\n",
    "\n",
    "snr_lin = 10.0**(snr_dB / 10)\n",
    "A_0 = np.sqrt(2 * snr_lin * var_mn)\n",
    "A_true = A_0 * np.exp(-t/t2)\n",
    "\n",
    "\n",
    "var_fn = 2 * D / f_sampling\n",
    "\n",
    "# no linear drift\n",
    "f_func_lin = lambda tt: f_0 + (tt / t[-1]) * 0.0\n",
    "\n",
    "\n",
    "fn = np.cumsum(np.sqrt(var_fn) * np.random.randn(L_signal)) #/ f_sampling\n",
    "y, f_true, phase = generate_sine_wave_with_fn(t, f_func_lin, fn)\n",
    "y = A_true * y + mn\n"
   ]
  },
  {
   "cell_type": "code",
   "execution_count": 6,
   "metadata": {},
   "outputs": [],
   "source": [
    "data_results = {}"
   ]
  },
  {
   "cell_type": "markdown",
   "metadata": {},
   "source": [
    "# Apply SinCos Fit"
   ]
  },
  {
   "cell_type": "code",
   "execution_count": 7,
   "metadata": {},
   "outputs": [],
   "source": [
    "\n",
    "block_size_seconds = np.logspace(np.log10(10.0), np.log10(t[-2]), 40, endpoint=True)\n",
    "\n",
    "# block_size_seconds = np.arange(1, 20, dtype=int)\n",
    "block_size_samples = [int(np.floor(bz*f_sampling)) for bz in block_size_seconds]\n",
    "n_blocksizes_sc = len(block_size_seconds)\n",
    "\n",
    "# save for plotting\n",
    "times_sc = []\n",
    "freqs_sc = []\n",
    "freqs_std_sc = []\n",
    "amps_sc = []\n",
    "amps_std_sc = []\n",
    "mses_f_sc = []\n",
    "\n",
    "for i, block_size in enumerate(block_size_seconds):\n",
    "    try:\n",
    "        sc_fit = Measurement(y.squeeze(), f_sampling)\n",
    "        sc_fit.make_sincos_fit(f_0, block_size)\n",
    "\n",
    "        t_sc = sc_fit.sincos_fit.time.squeeze()\n",
    "        f_sc = sc_fit.sincos_fit.frequency.squeeze()\n",
    "        f_std_sc = sc_fit.sincos_fit.frequency_std.squeeze()\n",
    "        amp_sc = sc_fit.sincos_fit.amp.squeeze()\n",
    "        amp_std_sc = sc_fit.sincos_fit.amp_std.squeeze()\n",
    "\n",
    "\n",
    "        f_sc_dense = gen_dense_series_from_blocks(t, t_sc, f_sc)\n",
    "        amp_sc_dense = gen_dense_series_from_blocks(t, t_sc, amp_sc)\n",
    "\n",
    "        data_results[f\"mse_f_sc_{block_size}\"] = np.mean((f_true - f_sc_dense)**2)\n",
    "        data_results[f\"mse_amp_sc_{block_size}\"] = np.mean((A_true - amp_sc_dense)**2)\n",
    "\n",
    "        mses_f_sc.append(data_results[f\"mse_f_sc_{block_size}\"])\n",
    "\n",
    "        # calculate percentage of true samples within uncertainty bounds\n",
    "        f_std_sc_dense = gen_dense_series_from_blocks(t, t_sc, f_std_sc)\n",
    "        data_results[f\"p_f_1sigma_sc_{block_size}\"] = np.sum(np.abs(f_true - f_sc_dense) <= f_std_sc_dense) / L_signal\n",
    "        data_results[f\"p_f_2sigma_sc_{block_size}\"] = np.sum(np.abs(f_true - f_sc_dense) <= 2 * f_std_sc_dense) / L_signal\n",
    "\n",
    "        amp_std_sc_dense = gen_dense_series_from_blocks(t, t_sc, amp_std_sc)\n",
    "        data_results[f\"p_amp_1sigma_sc_{block_size}\"] = np.sum(np.abs(A_true - amp_sc_dense) <= amp_std_sc_dense) / L_signal\n",
    "        data_results[f\"p_amp_2sigma_sc_{block_size}\"] = np.sum(np.abs(A_true - amp_sc_dense) <= 2 * amp_std_sc_dense) / L_signal\n",
    "\n",
    "        # save for plotting\n",
    "        times_sc.append(sc_fit.sincos_fit.time)\n",
    "        # # init_freqs_cs.append(sc_fit.sincos_fit.est_init_freq)\n",
    "        freqs_sc.append(sc_fit.sincos_fit.frequency)\n",
    "        freqs_std_sc.append(sc_fit.sincos_fit.frequency_std)\n",
    "        amps_sc.append(sc_fit.sincos_fit.amp)\n",
    "        amps_std_sc.append(sc_fit.sincos_fit.amp_std)\n",
    "\n",
    "    except:\n",
    "        mses_f_sc.append(np.inf)\n",
    "        continue\n",
    "\n",
    "idx_min_f_mse_sc = np.argmin(np.array(mses_f_sc))"
   ]
  },
  {
   "cell_type": "markdown",
   "metadata": {},
   "source": [
    "# apply EKS"
   ]
  },
  {
   "cell_type": "markdown",
   "metadata": {},
   "source": [
    "### perform EM"
   ]
  },
  {
   "cell_type": "code",
   "execution_count": null,
   "metadata": {},
   "outputs": [],
   "source": [
    "f_ini_est = f_0\n",
    "A_ini_est = A_0"
   ]
  },
  {
   "cell_type": "code",
   "execution_count": null,
   "metadata": {},
   "outputs": [],
   "source": [
    "# effective filter bandwidth.\n",
    "# for small drift, L = 1 should always be fine\n",
    "L = 1\n",
    "blocklength_s = 4.5 # sec\n",
    "\n",
    "\n",
    "t_blocks_ekf, y_ekf, T, N, M, delta_f_ini = prepare_signal_stft(y, f_sampling, blocklength_s, f_ini_est, L=L)\n",
    "\n",
    "# state space model\n",
    "sm, DIM_Q, DIM_R, GQ = get_stft_model_int_freq_int_amp(M, L, T)\n",
    "logamp = False\n",
    "\n",
    "\n",
    "Q_ini =  jnp.diag(10.0**jnp.array([\n",
    "    -5.0,  # amp, this value should not matter\n",
    "    -5.0, # phase, this value should not matter\n",
    "    -5.0, # freq, this value should not matter\n",
    "    -5.0,  # integrated freq\n",
    "    -4.0,  # integrated amp\n",
    "    # -10.0,  # perturbation\n",
    "    ][:DIM_Q])) # for const freq, lin amp\n",
    "P_ini = jnp.diag(10.0**jnp.array([\n",
    "    -1.0,  # amp\n",
    "    -1.0, # phase\n",
    "    -1.0, # freq\n",
    "    -2.0,  # integrated freq\n",
    "    -2.0,  # integrated amp\n",
    "    # -10.0,  # perturbation\n",
    "    ][:DIM_Q])) # for const freq, lin amp\n",
    "\n",
    "m_ini = jnp.array([(A_ini_est/(4*np.pi))**0.5, 1.0, delta_f_ini, 0, 0][:DIM_Q]).reshape((DIM_Q, 1))\n",
    "\n",
    "params = {\n",
    "    \"Q\": copy.copy(Q_ini),\n",
    "    \"P_ini\": copy.copy(P_ini),\n",
    "    \"R\": 10.0**(2.0) * jnp.eye(DIM_R),\n",
    "    \"m_ini\": m_ini,\n",
    "    \"f_sampling\": f_sampling,\n",
    "    \"GQ\": GQ,\n",
    "    \"alpha_R\": jnp.array(0.995),\n",
    "    \"alpha_Q\": jnp.array(0.995),\n",
    "}\n",
    "\n",
    "data_results[\"Q_ini\"] = params[\"Q\"]\n",
    "\n",
    "init_params = copy.deepcopy(params)\n",
    "\n",
    "## parameter optimization\n",
    "progress = nc.jax.RunProgress(0)\n",
    "L_EM = N\n",
    "\n",
    "# ### EM bisection ###\n",
    "q_bisection_idx = [i for i in range(DIM_Q) if GQ[i,i]!=0.0]\n",
    "alpha_em = 0.8\n",
    "\n",
    "params, progress = EM_bisection(y_ekf, sm, params, L_EM, n_iter_burn=200, n_iter_bisect = 20, n_max_switches=6, q_factor_ini=100.0, idx_qs=q_bisection_idx, alpha_Q=0.0, bisection_root_factor=0.75, alpha=alpha_em, verbose=False)\n",
    "\n",
    "## regular EM\n",
    "l_train_list = [L_EM] * 4\n",
    "max_iter_list = [200, 200, 200, 400]\n",
    "\n",
    "params, progress = perform_EM(y_ekf, l_train_list, max_iter_list, sm, params, progress=progress, verbose=True, alpha=alpha_em)\n",
    "\n",
    "\n",
    "save_params = copy.deepcopy(params)\n"
   ]
  },
  {
   "cell_type": "code",
   "execution_count": null,
   "metadata": {},
   "outputs": [],
   "source": [
    "fig, ax = plot_optimization_progress_stft(progress, M,T,f_sampling)"
   ]
  },
  {
   "cell_type": "markdown",
   "metadata": {},
   "source": [
    "# Apply EKF + EKS"
   ]
  },
  {
   "cell_type": "code",
   "execution_count": null,
   "metadata": {},
   "outputs": [],
   "source": [
    "\n",
    "### apply EKF\n",
    "print(\"Apply EKF\")\n",
    "\n",
    "w_filter = np.arange(0, N)\n",
    "w_filter_full = np.arange(0, N*T)\n",
    "L_filter = len(w_filter)\n",
    "\n",
    "m_est, P_est, m_smooth, P_smooth, aux_data = apply_filter(y_ekf, w_filter, sm, save_params)\n",
    "# sig_rec, ekf_residuals = reconstruct_signal(y_ekf, w_filter, m_est, sm, save_params)\n",
    "\n",
    "## calculate amps and freqs from tracked variables ##\n",
    "data_filter = {}\n",
    "data_filter[\"t_blocks\"] = t_blocks_ekf\n",
    "### AMPLITUDE ###\n",
    "amp_ekf = 4*np.pi*(m_est[:,0,0]**2)\n",
    "sigma_amp_ekf = np.sqrt(\n",
    "    (8*np.pi*m_est[:,0,0])**2 * P_est[:,0,0] + 0.5 * (8*np.pi)**2 * P_est[:,0,0]**2)\n",
    "\n",
    "amp_eks = 4*np.pi*(m_smooth[:,0,0]**2)\n",
    "sigma_amp_eks = np.sqrt(\n",
    "    (8*np.pi*m_smooth[:,0,0])**2 * P_smooth[:,0,0] + 0.5 * (8*np.pi)**2 * P_smooth[:,0,0]**2)\n",
    "\n",
    "data_filter[\"amp_ekf\"] = amp_ekf\n",
    "data_filter[\"sigma_amp_ekf\"] = sigma_amp_ekf\n",
    "data_filter[\"amp_eks\"] = amp_eks\n",
    "data_filter[\"sigma_amp_eks\"] = sigma_amp_eks\n",
    "\n",
    "### FREUQNCY ###\n",
    "f_ekf = (m_est[:,2,0]+M)/ (T) *f_sampling\n",
    "f_eks = (m_smooth[:,2,0]+M)/ (T) *f_sampling\n",
    "\n",
    "sigma_f_ekf = np.sqrt( (P_est[:,2,2])/ (T) *f_sampling )\n",
    "sigma_f_eks = np.sqrt( (P_smooth[:,2,2])/ (T) *f_sampling )\n",
    "\n",
    "data_filter[\"f_ekf\"] = f_ekf\n",
    "data_filter[\"sigma_f_ekf\"] = sigma_f_ekf\n",
    "data_filter[\"f_eks\"] = f_eks\n",
    "data_filter[\"sigma_f_eks\"] = sigma_f_eks"
   ]
  },
  {
   "cell_type": "markdown",
   "metadata": {},
   "source": [
    "# calculate MSE"
   ]
  },
  {
   "cell_type": "code",
   "execution_count": null,
   "metadata": {},
   "outputs": [],
   "source": [
    "####################### CALCULATE METRICS ######################\n",
    "\n",
    "### AMPLITUDE ###\n",
    "amp_ekf_dense = gen_dense_series_from_blocks(t[w_filter_full], t_blocks_ekf[w_filter], amp_ekf)\n",
    "amp_eks_dense = gen_dense_series_from_blocks(t[w_filter_full], t_blocks_ekf[w_filter], amp_eks)\n",
    "sigma_amp_ekf_dense = gen_dense_series_from_blocks(t[w_filter_full], t_blocks_ekf[w_filter], sigma_amp_ekf)\n",
    "sigma_amp_eks_dense = gen_dense_series_from_blocks(t[w_filter_full], t_blocks_ekf[w_filter], sigma_amp_eks)\n",
    "\n",
    "mse_amp_ekf = np.mean((A_true[w_filter_full] - amp_ekf_dense)**2)\n",
    "mse_amp_eks = np.mean((A_true[w_filter_full] - amp_eks_dense)**2)\n",
    "p_amp_ekf = np.sum(np.abs(A_true[w_filter_full] - amp_ekf_dense) < sigma_amp_ekf_dense) / w_filter_full.shape[0]\n",
    "p_amp_eks = np.sum(np.abs(A_true[w_filter_full] - amp_eks_dense) < sigma_amp_eks_dense) / w_filter_full.shape[0]\n",
    "\n",
    "data_results[\"mse_amp_ekf\"] = mse_amp_ekf\n",
    "data_results[\"mse_amp_eks\"] = mse_amp_eks\n",
    "\n",
    "data_results[f\"p_amp_1sigma_ekf\"] = p_amp_ekf\n",
    "data_results[f\"p_amp_1sigma_eks\"] = p_amp_eks\n",
    "\n",
    "### FREUQNCY ###\n",
    "f_ekf_dense = gen_dense_series_from_blocks(t[w_filter_full], t_blocks_ekf[w_filter], f_ekf)\n",
    "f_eks_dense = gen_dense_series_from_blocks(t[w_filter_full], t_blocks_ekf[w_filter], f_eks)\n",
    "sigma_f_ekf_dense = gen_dense_series_from_blocks(t[w_filter_full], t_blocks_ekf[w_filter], sigma_f_ekf)\n",
    "sigma_f_eks_dense = gen_dense_series_from_blocks(t[w_filter_full], t_blocks_ekf[w_filter], sigma_f_eks)\n",
    "\n",
    "mse_f_ekf = np.mean((f_true[w_filter_full] - f_ekf_dense)**2)\n",
    "mse_f_eks = np.mean((f_true[w_filter_full] - f_eks_dense)**2)\n",
    "p_f_ekf = np.sum(np.abs(f_true[w_filter_full] - f_ekf_dense) < sigma_f_ekf_dense) / w_filter_full.shape[0]\n",
    "p_f_eks = np.sum(np.abs(f_true[w_filter_full] - f_eks_dense) < sigma_f_eks_dense) / w_filter_full.shape[0]\n",
    "\n",
    "\n",
    "data_results[\"mse_f_ekf\"] = mse_f_ekf\n",
    "data_results[\"mse_f_eks\"] = mse_f_eks\n",
    "\n",
    "data_results[f\"p_f_1sigma_ekf\"] = p_f_ekf\n",
    "data_results[f\"p_f_1sigma_eks\"] = p_f_eks\n"
   ]
  },
  {
   "cell_type": "code",
   "execution_count": null,
   "metadata": {},
   "outputs": [],
   "source": [
    "print(f\"MSE F EKF: {data_results['mse_f_ekf']:.2e}\")\n",
    "print(f\"MSE F EKS: {data_results['mse_f_eks']:.2e}\")\n",
    "\n",
    "\n",
    "print(f\"MSE F SC BEST: {mses_f_sc[idx_min_f_mse_sc]:.2e} @ BL {block_size_seconds[idx_min_f_mse_sc]:.1f} s blocklength\")\n"
   ]
  },
  {
   "cell_type": "markdown",
   "metadata": {},
   "source": [
    "# plot results"
   ]
  },
  {
   "cell_type": "code",
   "execution_count": null,
   "metadata": {},
   "outputs": [],
   "source": [
    "fig, ax = plot_tracked_vars_stft(data_filter, n_sigma=2)\n",
    "\n",
    "ax[0].plot(t, f_true, color=\"red\", linestyle=\"--\", zorder=-4, label=\"True\")\n",
    "ax[0].errorbar(times_sc[idx_min_f_mse_sc], freqs_sc[idx_min_f_mse_sc], yerr=2*freqs_std_sc[idx_min_f_mse_sc], color=\"green\", capsize=5, linestyle=\"\", marker=\"^\", label=\"best SC +- 2 sigma\")\n",
    "ax[1].plot(t, A_true, color=\"red\", linestyle=\"--\", zorder=4, label=\"True\")\n",
    "ax[1].errorbar(times_sc[idx_min_f_mse_sc], amps_sc[idx_min_f_mse_sc], yerr=amps_std_sc[idx_min_f_mse_sc], color=\"green\", capsize=5, linestyle=\"\", marker=\"^\", label=\"best SC +- 2 sigma\")\n",
    "for a in ax:\n",
    "    a.legend()"
   ]
  },
  {
   "cell_type": "code",
   "execution_count": null,
   "metadata": {},
   "outputs": [],
   "source": []
  }
 ],
 "metadata": {
  "kernelspec": {
   "display_name": "base",
   "language": "python",
   "name": "python3"
  },
  "language_info": {
   "codemirror_mode": {
    "name": "ipython",
    "version": 3
   },
   "file_extension": ".py",
   "mimetype": "text/x-python",
   "name": "python",
   "nbconvert_exporter": "python",
   "pygments_lexer": "ipython3",
   "version": "3.9.6"
  }
 },
 "nbformat": 4,
 "nbformat_minor": 2
}
